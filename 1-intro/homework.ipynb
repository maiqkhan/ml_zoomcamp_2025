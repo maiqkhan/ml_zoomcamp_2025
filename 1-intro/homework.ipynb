{
 "cells": [
  {
   "cell_type": "markdown",
   "id": "d267ae48",
   "metadata": {},
   "source": [
    "### Q1"
   ]
  },
  {
   "cell_type": "code",
   "execution_count": 1,
   "id": "6bc94615",
   "metadata": {},
   "outputs": [
    {
     "data": {
      "text/plain": [
       "'2.3.2'"
      ]
     },
     "execution_count": 1,
     "metadata": {},
     "output_type": "execute_result"
    }
   ],
   "source": [
    "import pandas as pd \n",
    "\n",
    "pd.__version__"
   ]
  },
  {
   "cell_type": "markdown",
   "id": "e2417db8",
   "metadata": {},
   "source": [
    "### Get the data"
   ]
  },
  {
   "cell_type": "code",
   "execution_count": 2,
   "id": "8f3eceb2",
   "metadata": {},
   "outputs": [
    {
     "name": "stdout",
     "output_type": "stream",
     "text": [
      "--2025-09-18 16:42:06--  https://raw.githubusercontent.com/alexeygrigorev/datasets/master/car_fuel_efficiency.csv\n",
      "Resolving raw.githubusercontent.com (raw.githubusercontent.com)... 185.199.108.133, 185.199.111.133, 185.199.110.133, ...\n",
      "Connecting to raw.githubusercontent.com (raw.githubusercontent.com)|185.199.108.133|:443... connected.\n",
      "HTTP request sent, awaiting response... 200 OK\n",
      "Length: 874188 (854K) [text/plain]\n",
      "Saving to: ‘car_fuel_efficiency.csv’\n",
      "\n",
      "car_fuel_efficiency 100%[===================>] 853.70K  --.-KB/s    in 0.01s   \n",
      "\n",
      "2025-09-18 16:42:06 (80.2 MB/s) - ‘car_fuel_efficiency.csv’ saved [874188/874188]\n",
      "\n"
     ]
    }
   ],
   "source": [
    "!wget https://raw.githubusercontent.com/alexeygrigorev/datasets/master/car_fuel_efficiency.csv"
   ]
  },
  {
   "cell_type": "markdown",
   "id": "01380b23",
   "metadata": {},
   "source": [
    "## Q2"
   ]
  },
  {
   "cell_type": "code",
   "execution_count": 3,
   "id": "6f41f996",
   "metadata": {},
   "outputs": [],
   "source": [
    "df = pd.read_csv('car_fuel_efficiency.csv')"
   ]
  },
  {
   "cell_type": "code",
   "execution_count": 5,
   "id": "d4ab85c4",
   "metadata": {},
   "outputs": [
    {
     "name": "stdout",
     "output_type": "stream",
     "text": [
      "There are 9704 rows in the dataset\n"
     ]
    }
   ],
   "source": [
    "print(f\"There are {df.shape[0]} rows in the dataset\")"
   ]
  },
  {
   "cell_type": "markdown",
   "id": "6c88e1ab",
   "metadata": {},
   "source": [
    "## Q3"
   ]
  },
  {
   "cell_type": "code",
   "execution_count": 8,
   "id": "d7778847",
   "metadata": {},
   "outputs": [
    {
     "name": "stdout",
     "output_type": "stream",
     "text": [
      "There are 2 in the dataset: ['Gasoline' 'Diesel']\n"
     ]
    }
   ],
   "source": [
    "unique_fuel_types = df['fuel_type'].unique()\n",
    "print(f\"There are {len(unique_fuel_types)} in the dataset: {unique_fuel_types}\")"
   ]
  },
  {
   "cell_type": "markdown",
   "id": "55cf4de0",
   "metadata": {},
   "source": [
    "## Q4"
   ]
  },
  {
   "cell_type": "code",
   "execution_count": 21,
   "id": "befa1970",
   "metadata": {},
   "outputs": [
    {
     "name": "stdout",
     "output_type": "stream",
     "text": [
      "There are 4 in the dataset: ['num_cylinders', 'horsepower', 'acceleration', 'num_doors']\n"
     ]
    }
   ],
   "source": [
    "columns_with_nulls = df.columns[df.isnull().any()]\n",
    "print(f\"There are {len(columns_with_nulls)} in the dataset: {list(columns_with_nulls)}\")"
   ]
  },
  {
   "cell_type": "markdown",
   "id": "a54387b2",
   "metadata": {},
   "source": [
    "## Q5"
   ]
  },
  {
   "cell_type": "code",
   "execution_count": 29,
   "id": "0951d12e",
   "metadata": {},
   "outputs": [
    {
     "name": "stdout",
     "output_type": "stream",
     "text": [
      "The maximum fuel efficiency for cars in Asia is: 23.76 mpg\n"
     ]
    }
   ],
   "source": [
    "max_fuel_eff = round(df.query('origin == \"Asia\"')['fuel_efficiency_mpg'].max(), 2)\n",
    "print(f'The maximum fuel efficiency for cars in Asia is: {max_fuel_eff} mpg')"
   ]
  },
  {
   "cell_type": "markdown",
   "id": "e82acf2c",
   "metadata": {},
   "source": [
    "## Q6"
   ]
  },
  {
   "cell_type": "code",
   "execution_count": 37,
   "id": "ee138c97",
   "metadata": {},
   "outputs": [
    {
     "name": "stdout",
     "output_type": "stream",
     "text": [
      "The median horsepower has not changed, it has stayed the same horsepower value: 149.0 PS\n"
     ]
    }
   ],
   "source": [
    "med_horespower_pre_mode_fillna = df['horsepower'].median()\n",
    "mode_horespower = df['horsepower'].mode()\n",
    "\n",
    "df['horsepower'] = df['horsepower'].fillna(mode_horespower)\n",
    "\n",
    "med_horespower_post_mode_fillna = df['horsepower'].median()\n",
    "\n",
    "print(f\"The median horsepower has not changed, it has stayed the same horsepower value: {med_horespower_pre_mode_fillna} PS\")"
   ]
  },
  {
   "cell_type": "markdown",
   "id": "0071f189",
   "metadata": {},
   "source": [
    "## Q7"
   ]
  },
  {
   "cell_type": "code",
   "execution_count": 38,
   "id": "d9779149",
   "metadata": {},
   "outputs": [],
   "source": [
    "asia_cars = df.query('origin == \"Asia\"')[['vehicle_weight', 'model_year']].copy()"
   ]
  },
  {
   "cell_type": "code",
   "execution_count": 47,
   "id": "206d014f",
   "metadata": {},
   "outputs": [],
   "source": [
    "import numpy as np\n",
    "X = np.array(asia_cars.iloc[:7, :])"
   ]
  },
  {
   "cell_type": "code",
   "execution_count": 60,
   "id": "336ceaa7",
   "metadata": {},
   "outputs": [
    {
     "data": {
      "text/plain": [
       "array([[2714.21930965, 2016.        ],\n",
       "       [2783.86897424, 2010.        ],\n",
       "       [3582.68736772, 2007.        ],\n",
       "       [2231.8081416 , 2011.        ],\n",
       "       [2659.43145076, 2016.        ],\n",
       "       [2844.22753389, 2014.        ],\n",
       "       [3761.99403819, 2019.        ]])"
      ]
     },
     "execution_count": 60,
     "metadata": {},
     "output_type": "execute_result"
    }
   ],
   "source": [
    "X"
   ]
  },
  {
   "cell_type": "code",
   "execution_count": 67,
   "id": "49cf14c5",
   "metadata": {},
   "outputs": [],
   "source": [
    "XTX = np.linalg.inv(X.T.dot(X))\n"
   ]
  },
  {
   "cell_type": "code",
   "execution_count": 68,
   "id": "4167a8bc",
   "metadata": {},
   "outputs": [],
   "source": [
    "y = np.array([1100, 1300, 800, 900, 1000, 1100, 1200])"
   ]
  },
  {
   "cell_type": "code",
   "execution_count": 73,
   "id": "00a41341",
   "metadata": {},
   "outputs": [],
   "source": [
    "w = (XTX).dot(X.T).dot(y)"
   ]
  },
  {
   "cell_type": "code",
   "execution_count": 74,
   "id": "a1dc2e08",
   "metadata": {},
   "outputs": [
    {
     "data": {
      "text/plain": [
       "np.float64(0.5187709081074016)"
      ]
     },
     "execution_count": 74,
     "metadata": {},
     "output_type": "execute_result"
    }
   ],
   "source": [
    "np.sum(w)"
   ]
  }
 ],
 "metadata": {
  "kernelspec": {
   "display_name": "ml_zoomcamp_2025-IZNwCtwx",
   "language": "python",
   "name": "python3"
  },
  "language_info": {
   "codemirror_mode": {
    "name": "ipython",
    "version": 3
   },
   "file_extension": ".py",
   "mimetype": "text/x-python",
   "name": "python",
   "nbconvert_exporter": "python",
   "pygments_lexer": "ipython3",
   "version": "3.12.3"
  }
 },
 "nbformat": 4,
 "nbformat_minor": 5
}
