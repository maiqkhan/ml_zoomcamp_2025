{
 "cells": [
  {
   "cell_type": "markdown",
   "id": "106b44a8",
   "metadata": {},
   "source": [
    "## Regression"
   ]
  },
  {
   "cell_type": "code",
   "execution_count": 3,
   "id": "09b39123",
   "metadata": {},
   "outputs": [
    {
     "name": "stdout",
     "output_type": "stream",
     "text": [
      "--2025-10-04 01:33:55--  https://raw.githubusercontent.com/alexeygrigorev/datasets/master/car_fuel_efficiency.csv\n",
      "Resolving raw.githubusercontent.com (raw.githubusercontent.com)... 185.199.111.133, 185.199.108.133, 185.199.109.133, ...\n",
      "Connecting to raw.githubusercontent.com (raw.githubusercontent.com)|185.199.111.133|:443... connected.\n",
      "HTTP request sent, awaiting response... 200 OK\n",
      "Length: 874188 (854K) [text/plain]\n",
      "Saving to: ‘car_fuel_efficiency.csv’\n",
      "\n",
      "car_fuel_efficiency 100%[===================>] 853.70K  --.-KB/s    in 0.009s  \n",
      "\n",
      "2025-10-04 01:33:55 (93.6 MB/s) - ‘car_fuel_efficiency.csv’ saved [874188/874188]\n",
      "\n"
     ]
    }
   ],
   "source": [
    "!wget https://raw.githubusercontent.com/alexeygrigorev/datasets/master/car_fuel_efficiency.csv"
   ]
  },
  {
   "cell_type": "code",
   "execution_count": 6,
   "id": "e808f17f",
   "metadata": {},
   "outputs": [],
   "source": [
    "import pandas as pd\n",
    "import matplotlib.pyplot as plt\n",
    "import numpy as np"
   ]
  },
  {
   "cell_type": "code",
   "execution_count": 2,
   "id": "d728eaa0",
   "metadata": {},
   "outputs": [],
   "source": [
    "df = pd.read_csv('car_fuel_efficiency.csv')[['engine_displacement', 'horsepower', 'vehicle_weight', 'model_year', 'fuel_efficiency_mpg']]"
   ]
  },
  {
   "cell_type": "code",
   "execution_count": 3,
   "id": "e605e7c7",
   "metadata": {},
   "outputs": [
    {
     "data": {
      "text/plain": [
       "<Axes: >"
      ]
     },
     "execution_count": 3,
     "metadata": {},
     "output_type": "execute_result"
    },
    {
     "data": {
      "image/png": "[encoded data removed]",
      "text/plain": [
       "<Figure size 640x480 with 1 Axes>"
      ]
     },
     "metadata": {},
     "output_type": "display_data"
    }
   ],
   "source": [
    "df['fuel_efficiency_mpg'].hist()"
   ]
  },
  {
   "cell_type": "markdown",
   "id": "088954fd",
   "metadata": {},
   "source": [
    "### Columns with missing values"
   ]
  },
  {
   "cell_type": "code",
   "execution_count": 4,
   "id": "1a80fa48",
   "metadata": {},
   "outputs": [
    {
     "data": {
      "text/plain": [
       "Index(['horsepower'], dtype='object')"
      ]
     },
     "execution_count": 4,
     "metadata": {},
     "output_type": "execute_result"
    }
   ],
   "source": [
    "df.columns[df.isna().any() == True]"
   ]
  },
  {
   "cell_type": "markdown",
   "id": "207fe734",
   "metadata": {},
   "source": [
    "### Median horsepower"
   ]
  },
  {
   "cell_type": "code",
   "execution_count": 5,
   "id": "c23f719c",
   "metadata": {},
   "outputs": [
    {
     "data": {
      "text/plain": [
       "np.float64(149.0)"
      ]
     },
     "execution_count": 5,
     "metadata": {},
     "output_type": "execute_result"
    }
   ],
   "source": [
    "df['horsepower'].describe()['50%']"
   ]
  },
  {
   "cell_type": "markdown",
   "id": "d1654a75",
   "metadata": {},
   "source": [
    "#### Shuffle Dataset"
   ]
  },
  {
   "cell_type": "code",
   "execution_count": 7,
   "id": "6bdda893",
   "metadata": {},
   "outputs": [],
   "source": [
    "idx = np.arange(len(df))\n",
    "np.random.seed(42)\n",
    "np.random.shuffle(idx)"
   ]
  },
  {
   "cell_type": "code",
   "execution_count": 47,
   "id": "9faa016a",
   "metadata": {},
   "outputs": [],
   "source": [
    "n_val = n_test = int(len(df) * 0.20)\n",
    "n_train = len(df) - n_val - n_test\n",
    "\n",
    "df_train = df.iloc[idx[:n_train]]\n",
    "df_val = df.iloc[idx[n_train:n_train+n_val]]\n",
    "df_test = df.iloc[idx[n_train+n_val:]]"
   ]
  },
  {
   "cell_type": "markdown",
   "id": "ddf96fd4",
   "metadata": {},
   "source": [
    "### Missing Value"
   ]
  },
  {
   "cell_type": "code",
   "execution_count": 48,
   "id": "e13987e5",
   "metadata": {},
   "outputs": [],
   "source": [
    "class MissingValueHandler:\n",
    "    def __init__(self):\n",
    "        self.strategies = {\n",
    "            'mean': self._fill_mean,\n",
    "            'set_to_zero': self._set_to_zero\n",
    "        }\n",
    "\n",
    "    def handle_missing_vals(self, df: pd.DataFrame, column: str, strategy: str, **kwargs):\n",
    "\n",
    "        handler = self.strategies.get(strategy)\n",
    "\n",
    "        return handler(df=df, column_with_nulls=column, **kwargs)\n",
    "\n",
    "\n",
    "    def _fill_mean(self, df, column_with_nulls, mean_val: float = None):\n",
    "        df = df.copy()\n",
    "        \n",
    "        if mean_val:\n",
    "            df[column_with_nulls] = df[column_with_nulls].fillna(mean_val)\n",
    "        else:\n",
    "            col_mean = np.nanmean(df[column_with_nulls].values)\n",
    "            df[column_with_nulls] = df[column_with_nulls].fillna(col_mean)\n",
    "\n",
    "        return df \n",
    "    \n",
    "    def _set_to_zero(self, df, column_with_nulls):\n",
    "\n",
    "        df = df.copy()\n",
    "        df[column_with_nulls] = df[column_with_nulls].fillna(0)\n",
    "\n",
    "        return df"
   ]
  },
  {
   "cell_type": "code",
   "execution_count": 49,
   "id": "5ef2a27c",
   "metadata": {},
   "outputs": [],
   "source": [
    "handler = MissingValueHandler()\n",
    "\n",
    "df_train_mean_fill = handler.handle_missing_vals(df_train, 'horsepower', \"mean\", mean_val = df_train['horsepower'].mean())\n",
    "df_train_0_fill = handler.handle_missing_vals(df_train, 'horsepower', 'set_to_zero')\n",
    "\n",
    "df_val_mean_fill = handler.handle_missing_vals(df_val, 'horsepower', \"mean\", mean_val = df_train['horsepower'].mean())\n",
    "df_val_0_fill = handler.handle_missing_vals(df_val, 'horsepower', 'set_to_zero')"
   ]
  },
  {
   "cell_type": "code",
   "execution_count": 50,
   "id": "30e0548c",
   "metadata": {},
   "outputs": [],
   "source": [
    "def train_linear_regression(X, y):\n",
    "    ones = np.ones(X.shape[0])\n",
    "    X = np.column_stack([ones, X])\n",
    "\n",
    "    XTX = X.T.dot(X)\n",
    "    XTX_inv = np.linalg.inv(XTX)\n",
    "    w_full = XTX_inv.dot(X.T).dot(y)\n",
    "    \n",
    "    return w_full[0], w_full[1:]\n",
    "\n",
    "def rmse(y, y_pred):\n",
    "    se = (y - y_pred) ** 2\n",
    "    mse = se.mean()\n",
    "    return np.sqrt(mse)"
   ]
  },
  {
   "cell_type": "code",
   "execution_count": 51,
   "id": "ea5ac80f",
   "metadata": {},
   "outputs": [],
   "source": [
    "base = ['engine_displacement', 'horsepower', 'vehicle_weight', 'model_year']\n",
    "\n",
    "X_train_mean =  df_train_mean_fill[base]\n",
    "y_train_mean = df_train_mean_fill['fuel_efficiency_mpg'].values\n",
    "\n",
    "X_val_mean = df_val_mean_fill[base]\n",
    "y_val_mean = df_val_mean_fill['fuel_efficiency_mpg'].values\n",
    "\n",
    "w0_mean, w_mean = train_linear_regression(X_train_mean, y_train_mean)\n",
    "\n",
    "y_pred_mean = w0_mean + X_val_mean.dot(w_mean)\n",
    "\n",
    "mean_na_fill_rmse = rmse(y_val_mean, y_pred_mean)"
   ]
  },
  {
   "cell_type": "code",
   "execution_count": 52,
   "id": "52e75483",
   "metadata": {},
   "outputs": [],
   "source": [
    "X_train_0 =  df_train_0_fill[base]\n",
    "y_train_0 = df_train_0_fill['fuel_efficiency_mpg'].values\n",
    "\n",
    "X_val_0 = df_val_0_fill[base]\n",
    "y_val_0 = df_val_0_fill['fuel_efficiency_mpg'].values\n",
    "\n",
    "w0_0, w_0 = train_linear_regression(X_train_0, y_train_0)\n",
    "\n",
    "y_pred_0 = w0_0 + X_val_0.dot(w_0)\n",
    "\n",
    "zero_na_fill_rmse = rmse(y_val_0, y_pred_0)"
   ]
  },
  {
   "cell_type": "code",
   "execution_count": 53,
   "id": "7a1c2b16",
   "metadata": {},
   "outputs": [
    {
     "data": {
      "text/plain": [
       "'mean fill: 0.46, zero fill:0.51'"
      ]
     },
     "execution_count": 53,
     "metadata": {},
     "output_type": "execute_result"
    }
   ],
   "source": [
    "f\"mean fill: {round(mean_na_fill_rmse, 2)}, zero fill:{round(zero_na_fill_rmse, 2)}\""
   ]
  },
  {
   "cell_type": "markdown",
   "id": "5cdbc3c6",
   "metadata": {},
   "source": [
    "### Regularized models"
   ]
  },
  {
   "cell_type": "code",
   "execution_count": 54,
   "id": "dbe1dc19",
   "metadata": {},
   "outputs": [],
   "source": [
    "def train_linear_regression_reg(X, y, r=0.001):\n",
    "    ones = np.ones(X.shape[0])\n",
    "    X = np.column_stack([ones, X])\n",
    "\n",
    "    XTX = X.T.dot(X)\n",
    "    XTX = XTX + r * np.eye(XTX.shape[0])\n",
    "\n",
    "    XTX_inv = np.linalg.inv(XTX)\n",
    "    w_full = XTX_inv.dot(X.T).dot(y)\n",
    "    \n",
    "    return w_full[0], w_full[1:]"
   ]
  },
  {
   "cell_type": "code",
   "execution_count": 55,
   "id": "c8515550",
   "metadata": {},
   "outputs": [],
   "source": [
    "reg_rmse_dict = {}\n",
    "\n",
    "for r in [0, 0.01, 0.1, 1, 5, 10, 100]:\n",
    "    X_train_0 =  df_train_0_fill[base]\n",
    "    y_train_0 = df_train_0_fill['fuel_efficiency_mpg'].values\n",
    "\n",
    "    X_val_0 = df_val_0_fill[base]\n",
    "    y_val_0 = df_val_0_fill['fuel_efficiency_mpg'].values\n",
    "\n",
    "    w0_0, w_0 = train_linear_regression_reg(X_train_0, y_train_0, r=r)\n",
    "\n",
    "    y_pred_0 = w0_0 + X_val_0.dot(w_0)\n",
    "\n",
    "    pred_rmse = rmse(y_val_0, y_pred_0)\n",
    "\n",
    "    reg_rmse_dict[r] = pred_rmse \n",
    "\n",
    "\n",
    "    "
   ]
  },
  {
   "cell_type": "code",
   "execution_count": 56,
   "id": "522fbd9e",
   "metadata": {},
   "outputs": [
    {
     "data": {
      "text/plain": [
       "{0: np.float64(0.5131865908224594),\n",
       " 0.01: np.float64(0.5132540656237305),\n",
       " 0.1: np.float64(0.5158456588903589),\n",
       " 1: np.float64(0.5197454617205501),\n",
       " 5: np.float64(0.5204437154459186),\n",
       " 10: np.float64(0.5205385240519984),\n",
       " 100: np.float64(0.5206253825417081)}"
      ]
     },
     "execution_count": 56,
     "metadata": {},
     "output_type": "execute_result"
    }
   ],
   "source": [
    "dict(sorted(reg_rmse_dict.items(), key=lambda item: item[1]))"
   ]
  },
  {
   "cell_type": "markdown",
   "id": "88dd3d6e",
   "metadata": {},
   "source": [
    "### Shuffle seed"
   ]
  },
  {
   "cell_type": "code",
   "execution_count": 60,
   "id": "f8526066",
   "metadata": {},
   "outputs": [],
   "source": [
    "seed_rmse_lst = []\n",
    "\n",
    "handler = MissingValueHandler()\n",
    "\n",
    "\n",
    "for seed in [0, 1, 2, 3, 4, 5, 6, 7, 8, 9]:\n",
    "    idx = np.arange(len(df))\n",
    "    np.random.seed(seed)\n",
    "    np.random.shuffle(idx)\n",
    "\n",
    "    n_val = n_test = int(len(df) * 0.20)\n",
    "    n_train = len(df) - n_val - n_test\n",
    "\n",
    "    df_train = df.iloc[idx[:n_train]]\n",
    "    df_val = df.iloc[idx[n_train:n_train+n_val]]\n",
    "    df_test = df.iloc[idx[n_train+n_val:]]\n",
    "\n",
    "    df_train_0_fill = handler.handle_missing_vals(df_train, 'horsepower', 'set_to_zero')\n",
    "    df_val_0_fill = handler.handle_missing_vals(df_val, 'horsepower', 'set_to_zero')\n",
    "\n",
    "    X_train_0 =  df_train_0_fill[base]\n",
    "    y_train_0 = df_train_0_fill['fuel_efficiency_mpg'].values\n",
    "\n",
    "    X_val_0 = df_val_0_fill[base]\n",
    "    y_val_0 = df_val_0_fill['fuel_efficiency_mpg'].values\n",
    "\n",
    "    w0_0, w_0 = train_linear_regression(X_train_0, y_train_0)\n",
    "\n",
    "    y_pred_0 = w0_0 + X_val_0.dot(w_0)\n",
    "\n",
    "    zero_na_fill_rmse = rmse(y_val_0, y_pred_0)\n",
    "\n",
    "    seed_rmse_lst.append(zero_na_fill_rmse)\n",
    "    \n",
    "    "
   ]
  },
  {
   "cell_type": "code",
   "execution_count": 62,
   "id": "5e25979e",
   "metadata": {},
   "outputs": [
    {
     "data": {
      "text/plain": [
       "np.float64(0.007)"
      ]
     },
     "execution_count": 62,
     "metadata": {},
     "output_type": "execute_result"
    }
   ],
   "source": [
    "round(np.std(seed_rmse_lst),3)"
   ]
  },
  {
   "cell_type": "markdown",
   "id": "b8f4efb5",
   "metadata": {},
   "source": [
    "### Combine validation and training datasets"
   ]
  },
  {
   "cell_type": "code",
   "execution_count": 63,
   "id": "30937853",
   "metadata": {},
   "outputs": [
    {
     "name": "stdout",
     "output_type": "stream",
     "text": [
      "0.5156261299169602\n"
     ]
    }
   ],
   "source": [
    "idx = np.arange(len(df))\n",
    "np.random.seed(9)\n",
    "np.random.shuffle(idx)\n",
    "\n",
    "n_test = int(len(df) * 0.20)\n",
    "n_train_val = len(df) - n_test\n",
    "\n",
    "df_train_val = df.iloc[idx[:n_train_val]]\n",
    "df_test = df.iloc[idx[n_train_val:]]\n",
    "\n",
    "df_train_val_0_fill = handler.handle_missing_vals(df_train_val, 'horsepower', 'set_to_zero')\n",
    "df_test_0_fill = handler.handle_missing_vals(df_test, 'horsepower', 'set_to_zero')\n",
    "\n",
    "X_train_val_0 =  df_train_val_0_fill[base]\n",
    "y_train_val_0 = df_train_val_0_fill['fuel_efficiency_mpg'].values\n",
    "\n",
    "X_test_0 = df_test_0_fill[base]\n",
    "y_test_0 = df_test_0_fill['fuel_efficiency_mpg'].values\n",
    "\n",
    "w0_0, w_0 = train_linear_regression_reg(X_train_val_0, y_train_val_0, r=0.001)\n",
    "\n",
    "y_pred_0 = w0_0 + X_test_0.dot(w_0)\n",
    "\n",
    "zero_na_fill_test_rmse = rmse(y_test_0, y_pred_0)\n",
    "\n",
    "print(zero_na_fill_test_rmse)\n"
   ]
  },
  {
   "cell_type": "code",
   "execution_count": null,
   "id": "2bd148d5",
   "metadata": {},
   "outputs": [],
   "source": []
  }
 ],
 "metadata": {
  "kernelspec": {
   "display_name": "ml_zoomcamp_2025-IZNwCtwx",
   "language": "python",
   "name": "python3"
  },
  "language_info": {
   "codemirror_mode": {
    "name": "ipython",
    "version": 3
   },
   "file_extension": ".py",
   "mimetype": "text/x-python",
   "name": "python",
   "nbconvert_exporter": "python",
   "pygments_lexer": "ipython3",
   "version": "3.12.3"
  }
 },
 "nbformat": 4,
 "nbformat_minor": 5
}
