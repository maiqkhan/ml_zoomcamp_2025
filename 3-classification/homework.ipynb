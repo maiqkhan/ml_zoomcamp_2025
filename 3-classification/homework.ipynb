{
 "cells": [
  {
   "cell_type": "markdown",
   "id": "c6293908",
   "metadata": {},
   "source": [
    "### Classification"
   ]
  },
  {
   "cell_type": "code",
   "execution_count": 12,
   "id": "91dd097d",
   "metadata": {},
   "outputs": [],
   "source": [
    "import pandas as pd\n",
    "import matplotlib.pyplot as plt"
   ]
  },
  {
   "cell_type": "code",
   "execution_count": 1,
   "id": "e3eb19ba",
   "metadata": {},
   "outputs": [
    {
     "name": "stdout",
     "output_type": "stream",
     "text": [
      "--2025-10-11 20:15:24--  https://raw.githubusercontent.com/alexeygrigorev/datasets/master/course_lead_scoring.csv\n",
      "Resolving raw.githubusercontent.com (raw.githubusercontent.com)... 185.199.108.133, 185.199.109.133, 185.199.110.133, ...\n",
      "Connecting to raw.githubusercontent.com (raw.githubusercontent.com)|185.199.108.133|:443... connected.\n",
      "HTTP request sent, awaiting response... 200 OK\n",
      "Length: 80876 (79K) [text/plain]\n",
      "Saving to: ‘course_lead_scoring.csv’\n",
      "\n",
      "course_lead_scoring 100%[===================>]  78.98K  --.-KB/s    in 0.007s  \n",
      "\n",
      "2025-10-11 20:15:24 (10.5 MB/s) - ‘course_lead_scoring.csv’ saved [80876/80876]\n",
      "\n"
     ]
    }
   ],
   "source": [
    "!wget https://raw.githubusercontent.com/alexeygrigorev/datasets/master/course_lead_scoring.csv"
   ]
  },
  {
   "cell_type": "code",
   "execution_count": 3,
   "id": "d42e4d5f",
   "metadata": {},
   "outputs": [],
   "source": [
    "df = pd.read_csv('course_lead_scoring.csv')"
   ]
  },
  {
   "cell_type": "code",
   "execution_count": 7,
   "id": "e5b10724",
   "metadata": {},
   "outputs": [
    {
     "data": {
      "text/plain": [
       "lead_source                  object\n",
       "industry                     object\n",
       "number_of_courses_viewed      int64\n",
       "annual_income               float64\n",
       "employment_status            object\n",
       "location                     object\n",
       "interaction_count             int64\n",
       "lead_score                  float64\n",
       "converted                     int64\n",
       "dtype: object"
      ]
     },
     "execution_count": 7,
     "metadata": {},
     "output_type": "execute_result"
    }
   ],
   "source": [
    "df.dtypes"
   ]
  },
  {
   "cell_type": "code",
   "execution_count": 4,
   "id": "8064e7a3",
   "metadata": {},
   "outputs": [
    {
     "data": {
      "text/plain": [
       "lead_source                  True\n",
       "industry                     True\n",
       "number_of_courses_viewed    False\n",
       "annual_income                True\n",
       "employment_status            True\n",
       "location                     True\n",
       "interaction_count           False\n",
       "lead_score                  False\n",
       "converted                   False\n",
       "dtype: bool"
      ]
     },
     "execution_count": 4,
     "metadata": {},
     "output_type": "execute_result"
    }
   ],
   "source": [
    "df.isnull().any()"
   ]
  },
  {
   "cell_type": "code",
   "execution_count": 8,
   "id": "de3d5f45",
   "metadata": {},
   "outputs": [],
   "source": [
    "for cat_col in ['lead_source', 'industry', 'employment_status', 'location']:\n",
    "    df[cat_col] = df[cat_col].fillna('NA')\n",
    "\n",
    "for num_col in ['annual_income']:\n",
    "    df[num_col] = df[num_col].fillna(0.0)"
   ]
  },
  {
   "cell_type": "markdown",
   "id": "697cfc1b",
   "metadata": {},
   "source": [
    "#### Industry Mode Value"
   ]
  },
  {
   "cell_type": "code",
   "execution_count": 9,
   "id": "bbfa4e15",
   "metadata": {},
   "outputs": [
    {
     "data": {
      "text/plain": [
       "0    retail\n",
       "Name: industry, dtype: object"
      ]
     },
     "execution_count": 9,
     "metadata": {},
     "output_type": "execute_result"
    }
   ],
   "source": [
    "df['industry'].mode()"
   ]
  },
  {
   "cell_type": "code",
   "execution_count": 10,
   "id": "dd099a71",
   "metadata": {},
   "outputs": [
    {
     "data": {
      "text/plain": [
       "industry\n",
       "retail           203\n",
       "finance          200\n",
       "other            198\n",
       "healthcare       187\n",
       "education        187\n",
       "technology       179\n",
       "manufacturing    174\n",
       "NA               134\n",
       "Name: count, dtype: int64"
      ]
     },
     "execution_count": 10,
     "metadata": {},
     "output_type": "execute_result"
    }
   ],
   "source": [
    "df['industry'].value_counts()"
   ]
  },
  {
   "cell_type": "markdown",
   "id": "04440f65",
   "metadata": {},
   "source": [
    "##"
   ]
  },
  {
   "cell_type": "markdown",
   "id": "07a1c454",
   "metadata": {},
   "source": [
    "#### Correlation matrix"
   ]
  },
  {
   "cell_type": "code",
   "execution_count": 16,
   "id": "53f86a5b",
   "metadata": {},
   "outputs": [
    {
     "data": {
      "text/html": [
       "<div>\n",
       "<style scoped>\n",
       "    .dataframe tbody tr th:only-of-type {\n",
       "        vertical-align: middle;\n",
       "    }\n",
       "\n",
       "    .dataframe tbody tr th {\n",
       "        vertical-align: top;\n",
       "    }\n",
       "\n",
       "    .dataframe thead th {\n",
       "        text-align: right;\n",
       "    }\n",
       "</style>\n",
       "<table border=\"1\" class=\"dataframe\">\n",
       "  <thead>\n",
       "    <tr style=\"text-align: right;\">\n",
       "      <th></th>\n",
       "      <th>lead_score</th>\n",
       "      <th>interaction_count</th>\n",
       "      <th>annual_income</th>\n",
       "      <th>number_of_courses_viewed</th>\n",
       "    </tr>\n",
       "  </thead>\n",
       "  <tbody>\n",
       "    <tr>\n",
       "      <th>lead_score</th>\n",
       "      <td>1.000000</td>\n",
       "      <td>0.009888</td>\n",
       "      <td>0.015610</td>\n",
       "      <td>-0.004879</td>\n",
       "    </tr>\n",
       "    <tr>\n",
       "      <th>interaction_count</th>\n",
       "      <td>0.009888</td>\n",
       "      <td>1.000000</td>\n",
       "      <td>0.027036</td>\n",
       "      <td>-0.023565</td>\n",
       "    </tr>\n",
       "    <tr>\n",
       "      <th>annual_income</th>\n",
       "      <td>0.015610</td>\n",
       "      <td>0.027036</td>\n",
       "      <td>1.000000</td>\n",
       "      <td>0.009770</td>\n",
       "    </tr>\n",
       "    <tr>\n",
       "      <th>number_of_courses_viewed</th>\n",
       "      <td>-0.004879</td>\n",
       "      <td>-0.023565</td>\n",
       "      <td>0.009770</td>\n",
       "      <td>1.000000</td>\n",
       "    </tr>\n",
       "  </tbody>\n",
       "</table>\n",
       "</div>"
      ],
      "text/plain": [
       "                          lead_score  interaction_count  annual_income  \\\n",
       "lead_score                  1.000000           0.009888       0.015610   \n",
       "interaction_count           0.009888           1.000000       0.027036   \n",
       "annual_income               0.015610           0.027036       1.000000   \n",
       "number_of_courses_viewed   -0.004879          -0.023565       0.009770   \n",
       "\n",
       "                          number_of_courses_viewed  \n",
       "lead_score                               -0.004879  \n",
       "interaction_count                        -0.023565  \n",
       "annual_income                             0.009770  \n",
       "number_of_courses_viewed                  1.000000  "
      ]
     },
     "execution_count": 16,
     "metadata": {},
     "output_type": "execute_result"
    }
   ],
   "source": [
    "num_cols = ['lead_score', 'interaction_count', 'annual_income', 'number_of_courses_viewed']\n",
    "\n",
    "df[num_cols].corr()"
   ]
  },
  {
   "cell_type": "markdown",
   "id": "77befb9c",
   "metadata": {},
   "source": [
    "#### Mutual info score"
   ]
  },
  {
   "cell_type": "code",
   "execution_count": 40,
   "id": "4ea6d28f",
   "metadata": {},
   "outputs": [],
   "source": [
    "from sklearn.model_selection import train_test_split\n",
    "\n",
    "X = df.drop('converted', axis=1)\n",
    "y = df['converted'].values\n",
    "\n",
    "X_train_val, X_test, y_train_val, y_test  = train_test_split(X, y, test_size = 0.2, random_state=42)\n",
    "X_train, X_val, y_train, y_val = train_test_split(X_train_val, y_train_val, test_size=0.25, random_state=42)"
   ]
  },
  {
   "cell_type": "code",
   "execution_count": 41,
   "id": "eaf96d77",
   "metadata": {},
   "outputs": [],
   "source": [
    "from sklearn.metrics import mutual_info_score\n",
    "\n",
    "mutual_info_score_dict = {}\n",
    "\n",
    "for cat_col in ['lead_source', 'industry', 'employment_status', 'location']:\n",
    "    mutual_info_score_dict[cat_col] = round(mutual_info_score(y_train, X_train[cat_col]), 2)\n"
   ]
  },
  {
   "cell_type": "code",
   "execution_count": 42,
   "id": "974d5ca9",
   "metadata": {},
   "outputs": [
    {
     "data": {
      "text/plain": [
       "[('location', 0.0),\n",
       " ('industry', 0.01),\n",
       " ('employment_status', 0.01),\n",
       " ('lead_source', 0.04)]"
      ]
     },
     "execution_count": 42,
     "metadata": {},
     "output_type": "execute_result"
    }
   ],
   "source": [
    "sorted(mutual_info_score_dict.items(), key=lambda x: x[1])"
   ]
  },
  {
   "cell_type": "markdown",
   "id": "64e8e625",
   "metadata": {},
   "source": [
    "### Logistic regression model"
   ]
  },
  {
   "cell_type": "code",
   "execution_count": 43,
   "id": "7bf2ccf2",
   "metadata": {},
   "outputs": [],
   "source": [
    "from sklearn.pipeline import Pipeline\n",
    "from sklearn.preprocessing import OneHotEncoder\n",
    "from sklearn.compose import ColumnTransformer\n",
    "from sklearn.linear_model import LogisticRegression\n",
    "\n",
    "cat_cols = ['lead_source', 'industry', 'employment_status', 'location']\n",
    "\n",
    "log_reg_pipe = Pipeline(\n",
    "   [ ('oneHotEncoder',  ColumnTransformer(\n",
    "        [(\"encoder\", OneHotEncoder(), cat_cols)],\n",
    "        remainder=\"passthrough\"\n",
    "    )),\n",
    "    (\n",
    "        \"log_reg\", LogisticRegression(solver=\"liblinear\", C=1.0, max_iter=1_000, random_state=42)\n",
    "    )\n",
    "\n",
    "   ]\n",
    "\n",
    ")\n"
   ]
  },
  {
   "cell_type": "code",
   "execution_count": 44,
   "id": "4e99f95c",
   "metadata": {},
   "outputs": [],
   "source": [
    "log_model = log_reg_pipe.fit(X_train, y_train)"
   ]
  },
  {
   "cell_type": "code",
   "execution_count": 48,
   "id": "180682d5",
   "metadata": {},
   "outputs": [],
   "source": [
    "y_pred = log_model.predict(X_val)"
   ]
  },
  {
   "cell_type": "code",
   "execution_count": 52,
   "id": "9c6bcb55",
   "metadata": {},
   "outputs": [],
   "source": [
    "from sklearn.metrics import accuracy_score\n",
    "\n",
    "full_model_score = accuracy_score(y_val, y_pred)"
   ]
  },
  {
   "cell_type": "markdown",
   "id": "f7073628",
   "metadata": {},
   "source": [
    "### Feature elimination"
   ]
  },
  {
   "cell_type": "code",
   "execution_count": 54,
   "id": "f33a96d7",
   "metadata": {},
   "outputs": [],
   "source": [
    "from sklearn.base import BaseEstimator, TransformerMixin\n",
    "\n",
    "class ColumnDropper(BaseEstimator, TransformerMixin):\n",
    "    def __init__(self):\n",
    "        self.columns_to_drop = None\n",
    "\n",
    "    def fit(self, X, y=None, columns_to_drop = None):\n",
    "        if columns_to_drop is not None:\n",
    "            self.columns_to_drop = columns_to_drop\n",
    "        return self \n",
    "\n",
    "    def transform(self, X):\n",
    "        if self.columns_to_drop is not None:\n",
    "            return X.drop(columns=self.columns_to_drop, errors='ignore')\n",
    "        return X\n",
    "    \n",
    "log_reg_feature_elim_pipe = Pipeline(\n",
    "   [ (\"column_dropper\", ColumnDropper()),\n",
    "       \n",
    "       \n",
    "       ('oneHotEncoder',  ColumnTransformer(\n",
    "        [(\"encoder\", OneHotEncoder(), cat_cols)],\n",
    "        remainder=\"passthrough\"\n",
    "    )),\n",
    "    (\n",
    "        \"log_reg\", LogisticRegression(solver=\"liblinear\", C=1.0, max_iter=1_000, random_state=42)\n",
    "    )\n",
    "\n",
    "   ]\n",
    ")\n"
   ]
  },
  {
   "cell_type": "code",
   "execution_count": 66,
   "id": "06607f45",
   "metadata": {},
   "outputs": [
    {
     "name": "stdout",
     "output_type": "stream",
     "text": [
      "['lead_source', 'employment_status', 'location'] industry\n",
      "['lead_source', 'industry', 'location'] employment_status\n",
      "['lead_source', 'industry', 'employment_status', 'location'] lead_score\n"
     ]
    }
   ],
   "source": [
    "\n",
    "score_diff_dict = {}\n",
    "\n",
    "cat_cols_orig = ['lead_source', 'industry', 'employment_status', 'location']\n",
    "\n",
    "for elim_col in ['industry', 'employment_status', 'lead_score']:\n",
    "    \n",
    "    if elim_col in cat_cols_orig:\n",
    "        cat_cols =  [col for col in cat_cols_orig if col != elim_col]\n",
    "    else:\n",
    "        cat_cols = cat_cols_orig\n",
    "    \n",
    "    print(cat_cols, elim_col)\n",
    "\n",
    "    log_reg_feature_elim_pipe = Pipeline(\n",
    "            [ (\"column_dropper\", ColumnDropper()),\n",
    "                \n",
    "                \n",
    "                ('oneHotEncoder',  ColumnTransformer(\n",
    "                    [(\"encoder\", OneHotEncoder(), cat_cols)],\n",
    "                    remainder=\"passthrough\"\n",
    "                )),\n",
    "                (\n",
    "                    \"log_reg\", LogisticRegression(solver=\"liblinear\", C=1.0, max_iter=1_000, random_state=42)\n",
    "                )\n",
    "\n",
    "            ]\n",
    "            )\n",
    "    \n",
    "    log_model = log_reg_feature_elim_pipe.fit(X_train, y_train, column_dropper__columns_to_drop=[elim_col])\n",
    "\n",
    "    y_pred = log_model.predict(X_val)\n",
    "\n",
    "    feature_elim_score = accuracy_score(y_val, y_pred)\n",
    "    \n",
    "\n",
    "    score_diff_dict[elim_col] = abs(full_model_score - feature_elim_score)\n",
    "\n"
   ]
  },
  {
   "cell_type": "markdown",
   "id": "9366659b",
   "metadata": {},
   "source": [
    "#### Regularized log regression"
   ]
  },
  {
   "cell_type": "code",
   "execution_count": 78,
   "id": "d1c11dc3",
   "metadata": {},
   "outputs": [],
   "source": [
    "c_param_accuracy_dict = {}\n",
    "\n",
    "cat_cols = ['lead_source', 'industry', 'employment_status', 'location']\n",
    "\n",
    "for C_val in [0.01, 0.1, 1, 10, 100]:\n",
    "    log_reg_pipe = Pipeline(\n",
    "                        [ ('oneHotEncoder',  ColumnTransformer(\n",
    "                                [(\"encoder\", OneHotEncoder(), cat_cols)],\n",
    "                                remainder=\"passthrough\"\n",
    "                            )),\n",
    "                            (\n",
    "                                \"log_reg\", LogisticRegression(solver=\"liblinear\", C=C_val, max_iter=1_000, random_state=42)\n",
    "                            )\n",
    "\n",
    "                        ]\n",
    "\n",
    "                        )\n",
    "\n",
    "    log_model = log_reg_pipe.fit(X_train, y_train)\n",
    "\n",
    "    y_pred = log_model.predict(X_val)\n",
    "\n",
    "    c_param_accuracy_dict[C_val] = accuracy_score(y_val, y_pred)"
   ]
  },
  {
   "cell_type": "code",
   "execution_count": 76,
   "id": "bc76e393",
   "metadata": {},
   "outputs": [
    {
     "data": {
      "text/plain": [
       "[(0.01, 0.6996587030716723),\n",
       " (0.1, 0.6996587030716723),\n",
       " (1, 0.6996587030716723),\n",
       " (10, 0.6996587030716723),\n",
       " (100, 0.6996587030716723)]"
      ]
     },
     "execution_count": 76,
     "metadata": {},
     "output_type": "execute_result"
    }
   ],
   "source": [
    "sorted(c_param_accuracy_dict.items(), key=lambda x: x[1])"
   ]
  }
 ],
 "metadata": {
  "kernelspec": {
   "display_name": "ml_zoomcamp_2025-IZNwCtwx",
   "language": "python",
   "name": "python3"
  },
  "language_info": {
   "codemirror_mode": {
    "name": "ipython",
    "version": 3
   },
   "file_extension": ".py",
   "mimetype": "text/x-python",
   "name": "python",
   "nbconvert_exporter": "python",
   "pygments_lexer": "ipython3",
   "version": "3.12.3"
  }
 },
 "nbformat": 4,
 "nbformat_minor": 5
}
