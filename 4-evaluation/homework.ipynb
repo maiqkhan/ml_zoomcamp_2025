{
 "cells": [
  {
   "cell_type": "markdown",
   "id": "aaf3b4a5",
   "metadata": {},
   "source": [
    "### Evaluation"
   ]
  },
  {
   "cell_type": "code",
   "execution_count": 40,
   "id": "a95f495d",
   "metadata": {},
   "outputs": [],
   "source": [
    "import pandas as pd\n",
    "from sklearn.model_selection import train_test_split\n",
    "from sklearn.metrics import roc_auc_score\n",
    "from sklearn.pipeline import Pipeline\n",
    "import numpy as np\n",
    "from typing import List, Tuple\n",
    "import matplotlib.pyplot as plt\n"
   ]
  },
  {
   "cell_type": "code",
   "execution_count": 82,
   "id": "61a0efaa",
   "metadata": {},
   "outputs": [],
   "source": [
    "df = pd.read_csv('../3-classification/course_lead_scoring.csv')"
   ]
  },
  {
   "cell_type": "markdown",
   "id": "f0ad0128",
   "metadata": {},
   "source": [
    "### Fill NAs"
   ]
  },
  {
   "cell_type": "code",
   "execution_count": 83,
   "id": "e7f695c6",
   "metadata": {},
   "outputs": [],
   "source": [
    "for col in ['lead_source', 'industry', 'employment_status', 'location']:\n",
    "    df[col] = df[col].fillna('NA') \n",
    "\n",
    "for col in ['annual_income']:\n",
    "    df[col] = df[col].fillna(0.0)"
   ]
  },
  {
   "cell_type": "code",
   "execution_count": 106,
   "id": "d5a2a59a",
   "metadata": {},
   "outputs": [],
   "source": [
    "# Split FIRST\n",
    "df_train_val, df_test = train_test_split(df, test_size=0.2, random_state=1)\n",
    "df_train, df_val = train_test_split(df_train_val, test_size=0.25, random_state=1)\n",
    "\n",
    "# THEN handle missing values on each split\n",
    "for split_df in [df_train, df_val, df_test]:\n",
    "    for col in ['lead_source', 'industry', 'employment_status', 'location']:\n",
    "        split_df[col] = split_df[col].fillna('NA')\n",
    "    for col in ['annual_income']:\n",
    "        split_df[col] = split_df[col].fillna(0.0)\n",
    "\n",
    "X_train = df_train.drop('converted', axis=1)\n",
    "y_train = df_train['converted'].values\n",
    "\n",
    "X_val = df_val.drop('converted', axis=1) \n",
    "y_val = df_val['converted'].values\n",
    "\n",
    "X_test = df_test.drop('converted', axis=1)\n",
    "y_test = df_test['converted'].values"
   ]
  },
  {
   "cell_type": "markdown",
   "id": "fa1550de",
   "metadata": {},
   "source": [
    "### ROC AUC"
   ]
  },
  {
   "cell_type": "code",
   "execution_count": 107,
   "id": "ac80e9dd",
   "metadata": {},
   "outputs": [],
   "source": [
    "auc_score_dict = {}\n",
    "for col in ['lead_score', 'number_of_courses_viewed', 'interaction_count', 'annual_income']:\n",
    "    if roc_auc_score(y_train, X_train[col]) < 0.5:\n",
    "        auc_score_dict[col] = roc_auc_score(y_train, -X_train[col])\n",
    "    else:\n",
    "        auc_score_dict[col] = roc_auc_score(y_train, X_train[col])\n",
    "    "
   ]
  },
  {
   "cell_type": "code",
   "execution_count": 108,
   "id": "b9262a8d",
   "metadata": {},
   "outputs": [
    {
     "data": {
      "text/plain": [
       "[('annual_income', 0.5519578313253012),\n",
       " ('lead_score', 0.6144993577250176),\n",
       " ('interaction_count', 0.738270176293409),\n",
       " ('number_of_courses_viewed', 0.7635680590007088)]"
      ]
     },
     "execution_count": 108,
     "metadata": {},
     "output_type": "execute_result"
    }
   ],
   "source": [
    "sorted(auc_score_dict.items(), key= lambda item: item[1])"
   ]
  },
  {
   "cell_type": "markdown",
   "id": "0b66a04c",
   "metadata": {},
   "source": [
    "### Logistic Regression Model"
   ]
  },
  {
   "cell_type": "code",
   "execution_count": 200,
   "id": "378ff91d",
   "metadata": {},
   "outputs": [],
   "source": [
    "from sklearn.preprocessing import FunctionTransformer\n",
    "from sklearn.feature_extraction import DictVectorizer\n",
    "from sklearn.linear_model import LogisticRegression\n",
    "from sklearn.preprocessing import StandardScaler\n",
    "\n",
    "def df_to_dicts(X):\n",
    "    return X.to_dict(orient='records')\n",
    "\n",
    "# Create pipeline with DictVectorizer\n",
    "log_reg_pipe = Pipeline([\n",
    "    ('to_dict', FunctionTransformer(df_to_dicts, validate=False)),\n",
    "    ('dict_vectorizer', DictVectorizer(sparse=False)),\n",
    "    ('standard_scaler', StandardScaler()),\n",
    "    ('log_reg', LogisticRegression(solver='liblinear', C=1.0, max_iter=1000))\n",
    "])"
   ]
  },
  {
   "cell_type": "code",
   "execution_count": 133,
   "id": "f7a628fc",
   "metadata": {},
   "outputs": [],
   "source": [
    "log_model = log_reg_pipe.fit(X_train, y_train)"
   ]
  },
  {
   "cell_type": "code",
   "execution_count": 134,
   "id": "89121c22",
   "metadata": {},
   "outputs": [],
   "source": [
    "y_pred = log_model.predict_proba(X_val)[:, 1]"
   ]
  },
  {
   "cell_type": "code",
   "execution_count": 135,
   "id": "9c1ee203",
   "metadata": {},
   "outputs": [
    {
     "data": {
      "text/plain": [
       "0.9210046975361903"
      ]
     },
     "execution_count": 135,
     "metadata": {},
     "output_type": "execute_result"
    }
   ],
   "source": [
    "from sklearn.metrics import roc_auc_score\n",
    "\n",
    "roc_auc_score(y_val, y_pred)"
   ]
  },
  {
   "cell_type": "markdown",
   "id": "698d7d8f",
   "metadata": {},
   "source": [
    "### Precision and Recall"
   ]
  },
  {
   "cell_type": "code",
   "execution_count": 163,
   "id": "28a81577",
   "metadata": {},
   "outputs": [],
   "source": [
    "thresholds = np.arange(0.0, 1.0, 0.001)"
   ]
  },
  {
   "cell_type": "code",
   "execution_count": 164,
   "id": "29f1a963",
   "metadata": {},
   "outputs": [],
   "source": [
    "def calculate_tpr_fpr(y_val, y_pred, thresholds) -> List[Tuple]:\n",
    "    scores = []\n",
    "    for t in thresholds:\n",
    "        actual_positive = (y_val == 1)\n",
    "        actual_negative = (y_val == 0)\n",
    "\n",
    "        predict_positive = (y_pred >= t)\n",
    "        predict_negative = (y_pred < t)\n",
    "\n",
    "        tp = (predict_positive & actual_positive).sum()\n",
    "        tn = (predict_negative & actual_negative).sum()\n",
    "\n",
    "        fp = (predict_positive & actual_negative).sum()\n",
    "        fn = (predict_negative & actual_positive).sum()\n",
    "\n",
    "        scores.append((t, tp, fp, fn, tn))\n",
    "\n",
    "    return scores"
   ]
  },
  {
   "cell_type": "code",
   "execution_count": 165,
   "id": "c13bfa5c",
   "metadata": {},
   "outputs": [],
   "source": [
    "columns = ['threshold', 'tp', 'fp', 'fn', 'tn']\n",
    "df_scores = pd.DataFrame(calculate_tpr_fpr(y_val, y_pred, thresholds), columns=columns)\n",
    "\n",
    "df_scores['tpr'] = df_scores.tp / (df_scores.tp + df_scores.fn)\n",
    "df_scores['fpr'] = df_scores.fp / (df_scores.fp + df_scores.tn)"
   ]
  },
  {
   "cell_type": "code",
   "execution_count": 166,
   "id": "b47a0c07",
   "metadata": {},
   "outputs": [
    {
     "data": {
      "text/plain": [
       "<matplotlib.legend.Legend at 0x796e1c608a40>"
      ]
     },
     "execution_count": 166,
     "metadata": {},
     "output_type": "execute_result"
    },
    {
     "data": {
      "image/png": "[encoded data removed]",
      "text/plain": [
       "<Figure size 640x480 with 1 Axes>"
      ]
     },
     "metadata": {},
     "output_type": "display_data"
    }
   ],
   "source": [
    "plt.plot(df_scores.threshold, df_scores['tpr'], label='TPR')\n",
    "plt.plot(df_scores.threshold, df_scores['fpr'], label='FPR')\n",
    "plt.legend()"
   ]
  },
  {
   "cell_type": "code",
   "execution_count": 167,
   "id": "b1493483",
   "metadata": {},
   "outputs": [
    {
     "data": {
      "image/png": "[encoded data removed]",
      "text/plain": [
       "<Figure size 1000x600 with 1 Axes>"
      ]
     },
     "metadata": {},
     "output_type": "display_data"
    }
   ],
   "source": [
    "# Add precision and recall to your dataframe\n",
    "df_scores['precision'] = df_scores.tp / (df_scores.tp + df_scores.fp)\n",
    "df_scores['recall'] = df_scores.tp / (df_scores.tp + df_scores.fn)\n",
    "\n",
    "# Handle division by zero (when tp + fp = 0)\n",
    "df_scores['precision'] = df_scores['precision'].fillna(0)\n",
    "df_scores['recall'] = df_scores['recall'].fillna(0)\n",
    "\n",
    "# Plot precision and recall\n",
    "plt.figure(figsize=(10, 6))\n",
    "plt.plot(df_scores.threshold, df_scores.precision, label='Precision', linewidth=2)\n",
    "plt.plot(df_scores.threshold, df_scores.recall, label='Recall', linewidth=2)\n",
    "plt.xlabel('Threshold', fontsize=12)\n",
    "plt.ylabel('Score', fontsize=12)\n",
    "plt.title('Precision and Recall vs Threshold', fontsize=14)\n",
    "plt.legend(fontsize=11)\n",
    "plt.grid(True, alpha=0.3)\n",
    "plt.xlim([0, 1])\n",
    "plt.ylim([0, 1])\n",
    "plt.tight_layout()\n",
    "plt.show()\n",
    "\n",
    "df_scores['diff'] = np.abs(df_scores.precision - df_scores.recall)\n",
    "intersection_row = df_scores.loc[df_scores['diff'].idxmin()]"
   ]
  },
  {
   "cell_type": "markdown",
   "id": "227835b7",
   "metadata": {},
   "source": [
    "### F1 Score"
   ]
  },
  {
   "cell_type": "code",
   "execution_count": 169,
   "id": "ea255374",
   "metadata": {},
   "outputs": [],
   "source": [
    "df_scores['f1_score'] = df_scores.apply(lambda x: 2 * (x['precision'] * x['recall']) / (x['precision'] + x['recall']), axis = 1)"
   ]
  },
  {
   "cell_type": "code",
   "execution_count": 175,
   "id": "26a4da52",
   "metadata": {},
   "outputs": [
    {
     "data": {
      "text/plain": [
       "np.float64(0.516)"
      ]
     },
     "execution_count": 175,
     "metadata": {},
     "output_type": "execute_result"
    }
   ],
   "source": [
    "df_scores.iloc[df_scores['f1_score'].idxmax(), :]['threshold']"
   ]
  },
  {
   "cell_type": "markdown",
   "id": "b5011f0f",
   "metadata": {},
   "source": [
    "### 5-fold CV"
   ]
  },
  {
   "cell_type": "code",
   "execution_count": 180,
   "id": "9cf8c236",
   "metadata": {},
   "outputs": [],
   "source": [
    "from sklearn.model_selection import KFold"
   ]
  },
  {
   "cell_type": "code",
   "execution_count": null,
   "id": "945334e4",
   "metadata": {},
   "outputs": [],
   "source": [
    "df_full_train, df_test = train_test_split(df, test_size=0.2, random_state=1)\n",
    "\n",
    "\n"
   ]
  },
  {
   "cell_type": "code",
   "execution_count": 201,
   "id": "c6257fde",
   "metadata": {},
   "outputs": [],
   "source": [
    "k_fold_scores = []\n",
    "\n",
    "cv = KFold(n_splits=5, shuffle=True, random_state=1)\n",
    "\n",
    "for train_idx, val_idx in cv.split(df_full_train):\n",
    "    y_train = df_full_train.iloc[train_idx].converted.values\n",
    "    y_val = df_full_train.iloc[val_idx].converted.values\n",
    "\n",
    "    X_train = df_full_train.iloc[train_idx].drop('converted', axis=1).reset_index(drop=True) \n",
    "    X_val = df_full_train.iloc[val_idx].drop('converted', axis=1).reset_index(drop=True) \n",
    "\n",
    "    \n",
    "    log_reg_pipe.fit(X_train, y_train)\n",
    "\n",
    "    y_pred = log_reg_pipe.predict_proba(X_val)[:, 1]\n",
    "\n",
    "    k_fold_scores.append(roc_auc_score(y_val, y_pred))\n",
    "\n",
    "    \n",
    "    "
   ]
  },
  {
   "cell_type": "code",
   "execution_count": 202,
   "id": "89752d88",
   "metadata": {},
   "outputs": [
    {
     "data": {
      "text/plain": [
       "np.float64(0.011661808922263104)"
      ]
     },
     "execution_count": 202,
     "metadata": {},
     "output_type": "execute_result"
    }
   ],
   "source": [
    "np.std(k_fold_scores, ddof=1)"
   ]
  },
  {
   "cell_type": "markdown",
   "id": "b72b86ca",
   "metadata": {},
   "source": [
    "### Hyperparameter Tuning"
   ]
  },
  {
   "cell_type": "code",
   "execution_count": 207,
   "id": "714dfa85",
   "metadata": {},
   "outputs": [],
   "source": [
    "c_val_hyp_tuning = {}\n",
    "\n",
    "for c_val in [0.000001, 0.001, 1]:\n",
    "    k_fold_scores = []\n",
    "    \n",
    "    cv = KFold(n_splits=5, shuffle=True, random_state=1)\n",
    "\n",
    "    log_reg_pipe = Pipeline([\n",
    "    ('to_dict', FunctionTransformer(df_to_dicts, validate=False)),\n",
    "    ('dict_vectorizer', DictVectorizer(sparse=False)),\n",
    "   # ('standard_scaler', StandardScaler()),\n",
    "    ('log_reg', LogisticRegression(solver='liblinear', C=c_val, max_iter=1000))\n",
    "    ])\n",
    "\n",
    "    for train_idx, val_idx in cv.split(df_full_train):\n",
    "        y_train = df_full_train.iloc[train_idx].converted.values\n",
    "        y_val = df_full_train.iloc[val_idx].converted.values\n",
    "\n",
    "        X_train = df_full_train.iloc[train_idx].drop('converted', axis=1).reset_index(drop=True) \n",
    "        X_val = df_full_train.iloc[val_idx].drop('converted', axis=1).reset_index(drop=True) \n",
    "\n",
    "        \n",
    "        log_reg_pipe.fit(X_train, y_train)\n",
    "\n",
    "        y_pred = log_reg_pipe.predict_proba(X_val)[:, 1]\n",
    "\n",
    "        k_fold_scores.append(roc_auc_score(y_val, y_pred))\n",
    "    \n",
    "    c_val_hyp_tuning[c_val] = [round(np.mean(k_fold_scores),3) , np.std(k_fold_scores)]\n"
   ]
  },
  {
   "cell_type": "code",
   "execution_count": 212,
   "id": "562394b9",
   "metadata": {},
   "outputs": [
    {
     "data": {
      "text/plain": [
       "(0.001, [np.float64(0.867), np.float64(0.028746230508215103)])"
      ]
     },
     "execution_count": 212,
     "metadata": {},
     "output_type": "execute_result"
    }
   ],
   "source": [
    "sorted(c_val_hyp_tuning.items(), key=lambda x: x[1][0], reverse=True )[0]"
   ]
  },
  {
   "cell_type": "code",
   "execution_count": null,
   "id": "fdd7258f",
   "metadata": {},
   "outputs": [],
   "source": []
  }
 ],
 "metadata": {
  "kernelspec": {
   "display_name": "ml_zoomcamp_2025-IZNwCtwx",
   "language": "python",
   "name": "python3"
  },
  "language_info": {
   "codemirror_mode": {
    "name": "ipython",
    "version": 3
   },
   "file_extension": ".py",
   "mimetype": "text/x-python",
   "name": "python",
   "nbconvert_exporter": "python",
   "pygments_lexer": "ipython3",
   "version": "3.12.3"
  }
 },
 "nbformat": 4,
 "nbformat_minor": 5
}
